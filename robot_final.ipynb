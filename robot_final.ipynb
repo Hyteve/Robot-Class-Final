{
  "nbformat": 4,
  "nbformat_minor": 0,
  "metadata": {
    "colab": {
      "provenance": [],
      "gpuType": "T4"
    },
    "kernelspec": {
      "name": "python3",
      "display_name": "Python 3"
    },
    "language_info": {
      "name": "python"
    },
    "accelerator": "GPU"
  },
  "cells": [
    {
      "cell_type": "code",
      "source": [
        "import locale\n",
        "locale.getpreferredencoding = lambda: \"UTF-8\""
      ],
      "metadata": {
        "id": "CKkniRyvU-pK"
      },
      "execution_count": null,
      "outputs": []
    },
    {
      "cell_type": "code",
      "execution_count": null,
      "metadata": {
        "id": "1iauFL419r_9"
      },
      "outputs": [],
      "source": [
        "!pip install torch torchvision\n",
        "!pip install -U git+https://github.com/luca-medeiros/lang-segment-anything.git\n",
        "!pip install viam-sdk\n",
        "# this project mainly use this repo"
      ]
    },
    {
      "cell_type": "code",
      "source": [
        "from PIL import Image\n",
        "from lang_sam import LangSAM\n",
        "model = LangSAM()\n"
      ],
      "metadata": {
        "colab": {
          "base_uri": "https://localhost:8080/"
        },
        "id": "O6vlvQPH94cb",
        "outputId": "c46fe1c4-1cb3-425c-852b-3898eac6d25a"
      },
      "execution_count": null,
      "outputs": [
        {
          "output_type": "stream",
          "name": "stdout",
          "text": [
            "final text_encoder_type: bert-base-uncased\n",
            "Model loaded from /root/.cache/huggingface/hub/models--ShilongLiu--GroundingDINO/snapshots/a94c9b567a2a374598f05c584e96798a170c56fb/groundingdino_swinb_cogcoor.pth \n",
            " => _IncompatibleKeys(missing_keys=[], unexpected_keys=['label_enc.weight', 'bert.embeddings.position_ids'])\n"
          ]
        }
      ]
    },
    {
      "cell_type": "code",
      "source": [
        "import numpy as np\n",
        "import matplotlib.pyplot as plt\n",
        "from PIL import Image, ImageDraw\n",
        "\n",
        "def get_mask(model,image,prompt):\n",
        "    masks, boxes, phrases, logits = model.predict(image, prompt)\n",
        "    best_mask=masks[:1]\n",
        "    return best_mask\n",
        "\n",
        "def plot_image_with_masks(best_masks, image_pil, r, alpha=0.5):\n",
        "\n",
        "    mask = best_masks.numpy()[0].astype(np.uint8) * 255\n",
        "\n",
        "    mask_image = Image.fromarray(mask).resize(image_pil.size, Image.NEAREST)\n",
        "    centroid_x, centroid_y = calculate_centroid(best_masks.numpy()[0])\n",
        "\n",
        "    draw = ImageDraw.Draw(mask_image)\n",
        "    image_width = image_pil.size[0]\n",
        "    central_region_start = int(image_width * ((100 - r) / 2) / 100)\n",
        "    central_region_end = int(image_width * ((100 + r) / 2) / 100)\n",
        "\n",
        "    draw.line([(central_region_start, 2), (central_region_start, mask_image.size[1])],fill=120,  width=2)\n",
        "    draw.line([(central_region_end, 2), (central_region_end, mask_image.size[1])], fill=120 , width=2)\n",
        "    draw.ellipse([(centroid_x-5, centroid_y-5), (centroid_x+5, centroid_y+5)], fill=1)\n",
        "    blended = Image.blend(image_pil, mask_image.convert('RGB'), alpha=alpha)\n",
        "\n",
        "    # plt.clf()\n",
        "    plt.figure(figsize=(9, 6))\n",
        "    plt.imshow(blended)\n",
        "    plt.title('Mask, Decision Boundary, and Centroid')\n",
        "    plt.axis('off')\n",
        "    plt.show()\n",
        "\n",
        "def calculate_centroid(mask):\n",
        "    y_indices, x_indices = np.where(mask)\n",
        "    centroid_x = np.mean(x_indices)\n",
        "    centroid_y = np.mean(y_indices)\n",
        "\n",
        "    return centroid_x, centroid_y\n",
        "\n",
        "def plot_and_find_decision(best_masks, image_pil, r, alpha=0.5):\n",
        "    mask = best_masks.numpy()[0].astype(np.uint8) * 255\n",
        "    centroid_x, centroid_y = calculate_centroid(mask)\n",
        "    plot_image_with_masks(best_masks, image_pil, r=r)\n",
        "\n",
        "    image_width = image_pil.size[0]\n",
        "    central_region_start = image_width * ((100 - r) / 2) / 100\n",
        "    central_region_end = image_width * ((100 + r) / 2) / 100\n",
        "\n",
        "    if centroid_x < central_region_start:\n",
        "        return 0\n",
        "    elif centroid_x > central_region_end:\n",
        "        return 2\n",
        "    else:\n",
        "        return 1\n",
        "\n",
        "\n",
        "# direction = plot_and_find_decision(best_masks, image_pil, r=20)\n",
        "# plot_image_with_masks(best_masks, image_pil, r=20)\n",
        "# plot_and_find_decision(best_masks,image_pil,30)\n",
        "\n",
        "def decide(model,image,prompt):\n",
        "  mask=get_mask(model,image,prompt)\n",
        "  return plot_and_find_decision(mask,image,30)\n"
      ],
      "metadata": {
        "id": "oRnbb9_qG4Q5"
      },
      "execution_count": null,
      "outputs": []
    },
    {
      "cell_type": "code",
      "source": [
        "import asyncio\n",
        "\n",
        "from viam.robot.client import RobotClient\n",
        "from viam.rpc.dial import Credentials, DialOptions\n",
        "from viam.services.vision import VisionClient\n",
        "from viam.components.camera import Camera\n",
        "from viam.components.base import Base\n",
        "\n",
        "\n",
        "async def connect():\n",
        "    creds = Credentials(\n",
        "        type=\"robot-location-secret\",\n",
        "        payload=\"jeagevngvv75aff0tidbz48t7nm59hl0gl5cut0mm5lslnon\")\n",
        "    opts = RobotClient.Options(\n",
        "        refresh_interval=0,\n",
        "        dial_options=DialOptions(credentials=creds)\n",
        "    )\n",
        "    return await RobotClient.at_address(\"stevejin-main.1bftznk8if.viam.cloud\", opts)\n",
        "\n",
        "async def main():\n",
        "    spinNum = 5         # when turning, spin the motor this much\n",
        "    straightNum = 300    # when going straight, spin motor this much\n",
        "    numCycles = 200      # run the loop X times\n",
        "    vel = 500            # go this fast when moving motor\n",
        "\n",
        "    # Connect to robot client and set up components\n",
        "    robot = await connect()\n",
        "    base = Base.from_robot(robot, \"viam_base\")\n",
        "    camera_name = \"cam\"\n",
        "    camera = Camera.from_robot(robot, camera_name)\n",
        "    frame = await camera.get_image(mime_type=\"image/jpeg\")\n",
        "\n",
        "    # Grab the vision service for the detector\n",
        "    my_detector = VisionClient.from_robot(robot, \"my_color_detector\")\n",
        "\n",
        "    # Main loop. Detect the ball, determine if it's on the left or right, and\n",
        "    # head that way. Repeat this for numCycles\n",
        "    for i in range(numCycles):\n",
        "        # detections = await my_detector.get_detections_from_camera(camera_name)\n",
        "        frame = await camera.get_image(mime_type=\"image/jpeg\")\n",
        "        answer = decide(model,frame,PROMPT)\n",
        "        print(answer)\n",
        "        if answer == 0:\n",
        "            print(\"left\")\n",
        "            await base.spin(spinNum, vel)\n",
        "        if answer == 1:\n",
        "            print(\"center\")\n",
        "            await base.move_straight(straightNum, vel)\n",
        "        if answer == 2:\n",
        "            print(\"right\")\n",
        "            await base.spin(-spinNum, vel)\n",
        "        # If nothing is detected, nothing moves\n",
        "        if answer==-1:\n",
        "            print(\"searching\")\n",
        "            await base.spin(-spinNum, vel)\n",
        "\n",
        "    await robot.close()\n",
        "\n",
        "PROMPT=\"the monitor\"\n",
        "# PROMPT=\"the cardboard box\"\n",
        "# PROMPT=\"the rubbish bin\"\n",
        "await main()\n"
      ],
      "metadata": {
        "id": "E3INDHlyVxyS"
      },
      "execution_count": null,
      "outputs": []
    }
  ]
}